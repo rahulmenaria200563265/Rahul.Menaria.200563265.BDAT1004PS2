{
 "cells": [
  {
   "cell_type": "markdown",
   "id": "9723b292",
   "metadata": {},
   "source": [
    "## Q1 Consider the following Python module:\n",
    "a = 0\n",
    "\n",
    "def b():\n",
    "\n",
    " global a\n",
    " \n",
    " a = c(a)\n",
    " \n",
    "def c(a):\n",
    "\n",
    " return a + 2\n",
    " \n",
    "After importing the module into the interpreter, you execute:\n",
    "\n",
    "b()\n",
    "\n",
    "b()\n",
    "\n",
    "b()\n",
    "\n",
    "a\n",
    "\n",
    "?\n",
    "What value is displayed when the last expression (a) is evaluated? Explain your\n",
    "answer by indicating what happens in every executed statement."
   ]
  },
  {
   "cell_type": "code",
   "execution_count": 1,
   "id": "e412949e",
   "metadata": {},
   "outputs": [
    {
     "name": "stdout",
     "output_type": "stream",
     "text": [
      "2\n",
      "4\n",
      "6\n",
      "6\n"
     ]
    }
   ],
   "source": [
    "a=0\n",
    "\n",
    "def b():\n",
    "    global a\n",
    "    a = c(a)\n",
    "    return a\n",
    "\n",
    "def c(a):\n",
    "    return a + 2\n",
    "\n",
    "print(b())\n",
    "print(b())\n",
    "print(b())\n",
    "print(a)\n"
   ]
  },
  {
   "cell_type": "markdown",
   "id": "4e342943",
   "metadata": {},
   "source": [
    "Initially a is assigned to 0.\n",
    "When b() is called 3 times this is what happens:\n",
    "First call to b:\n",
    "a is initially 0.\n",
    "b() calls c(a) with a = 0.\n",
    "c(0) returns 0 + 2 = 2.\n",
    "a is updated to 2 and b() returns 2.\n",
    "\n",
    "Second call to b:\n",
    "a is now 2.\n",
    "b() calls c(a) with a = 2.\n",
    "c(2) returns 2 + 2 = 4.\n",
    "a is updated to 4 and b() returns 4.\n",
    "\n",
    "Third call to b:\n",
    "a is now 4.\n",
    "b() calls c(a) with a = 4.\n",
    "c(4) returns 4 + 2 = 6.\n",
    "a is updated to 6 and b() returns 6.\n",
    "\n",
    "The final value of a will be 6."
   ]
  },
  {
   "cell_type": "markdown",
   "id": "7bcd925a",
   "metadata": {},
   "source": [
    "# Q2 Function fileLength(), given to you, takes the name of a file as input and returns\n",
    "the length of the file:\n",
    "\n",
    "fileLength('midterm.py')\n",
    "\n",
    "284\n",
    "\n",
    "fileLength('idterm.py')\n",
    "\n",
    "Traceback (most recent call last):\n",
    "\n",
    "File \"<pyshell#34>\", line 1, in module\n",
    "\n",
    " fileLength('idterm.py')\n",
    " \n",
    "File \"/Users/me/midterm.py\", line 3, in fileLength\n",
    "\n",
    " infile = open(filename)\n",
    " \n",
    "FileNotFoundError: [Errno 2] No such file or directory:\n",
    "\n",
    "'idterm.py'\n",
    "\n",
    "As shown above, if the file cannot be found by the interpreter or if it cannot be read\n",
    "\n",
    "as a text file, an exception will be raised. Modify function fileLength() so that a\n",
    "\n",
    "friendly message is printed instead:\n",
    "\n",
    "fileLength('midterm.py')\n",
    "\n",
    "358\n",
    "\n",
    "fileLength('idterm.py')\n",
    "\n",
    "File idterm.py not found.\n",
    "\n"
   ]
  },
  {
   "cell_type": "code",
   "execution_count": 2,
   "id": "55fcb7d3",
   "metadata": {},
   "outputs": [],
   "source": [
    "def fileLength(file_name):\n",
    "    try:\n",
    "        with open(file_name, 'r') as file:\n",
    "            content = file.read()\n",
    "            file_length = len(content)\n",
    "        return file_length\n",
    "    except FileNotFoundError:\n",
    "        return f\"File {file_name} not found.\"\n"
   ]
  },
  {
   "cell_type": "code",
   "execution_count": 3,
   "id": "76e722de",
   "metadata": {},
   "outputs": [
    {
     "data": {
      "text/plain": [
       "'C:\\\\Users\\\\rahul'"
      ]
     },
     "execution_count": 3,
     "metadata": {},
     "output_type": "execute_result"
    }
   ],
   "source": [
    "pwd()"
   ]
  },
  {
   "cell_type": "code",
   "execution_count": 4,
   "id": "f8c7450f",
   "metadata": {},
   "outputs": [
    {
     "data": {
      "text/plain": [
       "396"
      ]
     },
     "execution_count": 4,
     "metadata": {},
     "output_type": "execute_result"
    }
   ],
   "source": [
    "fileLength(r\"C:\\Users\\rahul\\Downloads\\w3c.txt\")"
   ]
  },
  {
   "cell_type": "code",
   "execution_count": 5,
   "id": "7ffb3928",
   "metadata": {},
   "outputs": [
    {
     "data": {
      "text/plain": [
       "'File idterm.py not found.'"
      ]
     },
     "execution_count": 5,
     "metadata": {},
     "output_type": "execute_result"
    }
   ],
   "source": [
    "fileLength(\"idterm.py\")"
   ]
  },
  {
   "cell_type": "markdown",
   "id": "97ed421e",
   "metadata": {},
   "source": [
    "# Q 3"
   ]
  },
  {
   "cell_type": "raw",
   "id": "8ceddb92",
   "metadata": {},
   "source": [
    "# Q 3\n",
    "Write a class named Marsupial that can be used as shown below:\n",
    "m = Marsupial()\n",
    "m.put_in_pouch('doll')\n",
    "m.put_in_pouch('firetruck')\n",
    "m.put_in_pouch('kitten')\n",
    "m.pouch_contents()\n",
    "['doll', 'firetruck', 'kitten']\n",
    "Now write a class named Kangaroo as a subclass of Marsupial that inherits all the\n",
    "attributes of Marsupial and also:\n",
    "a. extends the Marsupial __init__ constructor to take, as input, the\n",
    "coordinates x and y of the Kangaroo object,\n",
    "b. supports method jump that takes number values dx and dy as input and\n",
    "moves the kangaroo by dx units along the x-axis and by dy units along the yaxis, and\n",
    "c. overloads the __str__ operator so it behaves as shown below.\n",
    "k = Kangaroo(0,0)\n",
    "print(k)\n",
    "I am a Kangaroo located at coordinates (0,0)\n",
    "k.put_in_pouch('doll')\n",
    "k.put_in_pouch('firetruck')\n",
    "k.put_in_pouch('kitten')\n",
    "k.pouch_contents()\n",
    "['doll', 'firetruck', 'kitten']\n",
    "k.jump(1,0)\n",
    "k.jump(1,0)\n",
    "k.jump(1,0)\n",
    "print(k)\n",
    "I am a Kangaroo located at coordinates (3,0)"
   ]
  },
  {
   "cell_type": "code",
   "execution_count": 6,
   "id": "bb6858e1",
   "metadata": {},
   "outputs": [
    {
     "name": "stdout",
     "output_type": "stream",
     "text": [
      "['doll', 'firetruck', 'kitten']\n"
     ]
    }
   ],
   "source": [
    "class Marsupial:\n",
    "    def __init__(self):\n",
    "        self.pouch = []\n",
    "        \n",
    "    def put_in_pouch(self, item):\n",
    "        self.pouch.append(item)\n",
    "        \n",
    "    def pouch_contents(self):\n",
    "        return self.pouch\n",
    "\n",
    "# Creating an instance of Marsupial\n",
    "marsupial_instance = Marsupial()\n",
    "marsupial_instance.put_in_pouch('doll')\n",
    "marsupial_instance.put_in_pouch('firetruck')\n",
    "marsupial_instance.put_in_pouch('kitten')\n",
    "print(marsupial_instance.pouch_contents())\n",
    "\n",
    "class Kangaroo(Marsupial):\n",
    "    def __init__(self, x=0, y=0):\n",
    "        super().__init__()\n",
    "        self.x = x\n",
    "        self.y = y\n",
    "        \n",
    "    def jump(self, dx, dy):\n",
    "        self.x += dx\n",
    "        self.y += dy\n",
    "        \n",
    "    def __str__(self):\n",
    "        return f\"I am a Kangaroo located at coordinates ({self.x},{self.y})\""
   ]
  },
  {
   "cell_type": "code",
   "execution_count": 7,
   "id": "29219bb0",
   "metadata": {},
   "outputs": [
    {
     "name": "stdout",
     "output_type": "stream",
     "text": [
      "I am a Kangaroo located at coordinates (0,0)\n",
      "['doll', 'firetruck', 'kitten']\n",
      "I am a Kangaroo located at coordinates (3,0)\n"
     ]
    }
   ],
   "source": [
    "# Instantiating Kangaroo at the origin\n",
    "kangaroo_instance = Kangaroo(0, 0)\n",
    "print(kangaroo_instance)  \n",
    "\n",
    "# Adding items to the Kangaroo's pouch\n",
    "kangaroo_instance.put_in_pouch('doll')\n",
    "kangaroo_instance.put_in_pouch('firetruck')\n",
    "kangaroo_instance.put_in_pouch('kitten')\n",
    "print(kangaroo_instance.pouch_contents())  \n",
    "\n",
    "# Making the Kangaroo jump\n",
    "kangaroo_instance.jump(1, 0)\n",
    "kangaroo_instance.jump(1, 0)\n",
    "kangaroo_instance.jump(1, 0)\n",
    "print(kangaroo_instance)\n"
   ]
  },
  {
   "cell_type": "markdown",
   "id": "373626c0",
   "metadata": {},
   "source": [
    "# Q 4\n",
    "Write function collatz() that takes a positive integer x as input and prints the\n",
    "\n",
    "Collatz sequence starting at x. A Collatz sequence is obtained by repeatedly applying\n",
    "\n",
    "this rule to the previous number x in the sequence:\n",
    "\n",
    "x = {\n",
    "\n",
    "𝑥/2 𝑖𝑓 𝑥 𝑖𝑠 𝑒𝑣𝑒𝑛\n",
    "\n",
    "3𝑥 + 1 𝑖𝑓 𝑥 𝑖𝑠 𝑜𝑑𝑑\n",
    "\n",
    "Your function should stop when the sequence gets to number 1. Your\n",
    "\n",
    "implementation must be recursive, without any loops."
   ]
  },
  {
   "cell_type": "code",
   "execution_count": 8,
   "id": "1520b660",
   "metadata": {},
   "outputs": [
    {
     "name": "stdout",
     "output_type": "stream",
     "text": [
      "1\n",
      "---------\n",
      "10\n",
      "5\n",
      "16\n",
      "8\n",
      "4\n",
      "2\n",
      "1\n"
     ]
    }
   ],
   "source": [
    "def collatz(number):\n",
    "    while number != 1:\n",
    "        print(number)\n",
    "        if number % 2 == 0:\n",
    "            number = number // 2\n",
    "        else:\n",
    "            number = 3 * number + 1\n",
    "    print(number)\n",
    "\n",
    "collatz(1)\n",
    "print(\"---------\")\n",
    "collatz(10)\n"
   ]
  },
  {
   "cell_type": "markdown",
   "id": "9c5dee94",
   "metadata": {},
   "source": [
    "# Q 5\n",
    "Write a recursive method binary() that takes a non-negative\n",
    "\n",
    "integer n and prints the binary representation of integer n.\n",
    "\n",
    "binary(0)\n",
    "\n",
    "0\n",
    "\n",
    " binary(1)\n",
    " \n",
    "1\n",
    "\n",
    "binary(3)\n",
    "\n",
    "11\n",
    "\n",
    " binary(9)\n",
    " \n",
    "1001\n"
   ]
  },
  {
   "cell_type": "code",
   "execution_count": 9,
   "id": "f423dbe7",
   "metadata": {},
   "outputs": [],
   "source": [
    "def binary(number):\n",
    "    if number > 1:\n",
    "        binary(number // 2)\n",
    "    print(number % 2, end='') "
   ]
  },
  {
   "cell_type": "code",
   "execution_count": 10,
   "id": "1e49c20f",
   "metadata": {},
   "outputs": [
    {
     "name": "stdout",
     "output_type": "stream",
     "text": [
      "0\n",
      "\n",
      "1\n",
      "\n",
      "11\n",
      "\n",
      "1001"
     ]
    }
   ],
   "source": [
    "binary(0)\n",
    "print(\"\\n\")\n",
    "binary(1)\n",
    "print(\"\\n\")\n",
    "binary(3)\n",
    "print(\"\\n\")\n",
    "binary(9)"
   ]
  },
  {
   "cell_type": "markdown",
   "id": "cb4f05e3",
   "metadata": {},
   "source": [
    "# Q 6\n",
    "\n",
    "Implement a class named HeadingParser that can be used to parse an HTML\n",
    "\n",
    "document, and retrieve and print all the headings in the document. You should\n",
    "\n",
    "implement your class as a subclass of HTMLParser, defined in Standard Library\n",
    "\n",
    "module html.parser. When fed a string containing HTML code, your class should\n",
    "\n",
    "print the headings, one per line and in the order in which they appear in the\n",
    "\n",
    "document. Each heading should be indented as follows: an h1 heading should have \n",
    "\n",
    " indentation 0, and h2 heading should have indentation 1, etc. Test your\n",
    " \n",
    "implementation using w3c.html.\n",
    "\n",
    "infile = open('w3c.html')\n",
    "\n",
    "content = infile.read()\n",
    "\n",
    "infile.close()\n",
    "\n",
    "hp = HeadingParser()\n",
    "\n",
    "hp.feed(content)\n",
    "\n",
    "W3C Mission\n",
    "\n",
    "Principles   "
   ]
  },
  {
   "cell_type": "code",
   "execution_count": 11,
   "id": "0bc91011",
   "metadata": {},
   "outputs": [
    {
     "name": "stdout",
     "output_type": "stream",
     "text": [
      "W3C Mission\n",
      "\tPrinciples\n"
     ]
    }
   ],
   "source": [
    "from html.parser import HTMLParser\n",
    "\n",
    "class HeadingParser(HTMLParser):\n",
    "    def __init__(self):\n",
    "        super().__init__()\n",
    "        self.is_heading = False\n",
    "        self.indent_level = 0\n",
    "        self.heading_tags = {\"h1\": 0, \"h2\": 1, \"h3\": 2, \"h4\": 3, \"h5\": 4, \"h6\": 5}\n",
    "\n",
    "    def handle_starttag(self, tag, attrs):\n",
    "        if tag in self.heading_tags:\n",
    "            self.is_heading = True\n",
    "            self.indent_level = self.heading_tags[tag]\n",
    "\n",
    "    def handle_data(self, data):\n",
    "        if self.is_heading:\n",
    "            print(self.indent_level * \"\\t\" + data)\n",
    "\n",
    "    def handle_endtag(self, tag):\n",
    "        if tag in self.heading_tags:\n",
    "            self.is_heading = False\n",
    "\n",
    "# Usage example\n",
    "with open(r\"C:\\Users\\rahul\\Downloads\\w3c.txt\") as file:\n",
    "    html_content = file.read()\n",
    "\n",
    "hp = HeadingParser()\n",
    "hp.feed(html_content)\n"
   ]
  },
  {
   "cell_type": "markdown",
   "id": "2162a8de",
   "metadata": {},
   "source": [
    "# Q7\n",
    "Implement recursive function webdir() that takes as input: a URL (as a string) and\n",
    "\n",
    "non-negative integers depth and indent. Your function should visit every web\n",
    "\n",
    "page reachable from the starting URL web page in depth clicks or less, and print\n",
    "\n",
    "each web page's URL. As shown below, indentation, specified by indent, should\n",
    "\n",
    "be used to indicate the depth of a URL.\n",
    "\n",
    "webdir('http://reed.cs.depaul.edu/lperkovic/csc242/test1.html'\n",
    ", 2, 0)\n",
    "http://reed.cs.depaul.edu/lperkovic/csc242/test1.html\n",
    " http://reed.cs.depaul.edu/lperkovic/csc242/test2.html\n",
    " http://reed.cs.depaul.edu/lperkovic/csc242/test4.html\n",
    " http://reed.cs.depaul.edu/lperkovic/csc242/test3.html\n",
    " http://reed.cs.depaul.edu/lperkovic/csc242/test4.html"
   ]
  },
  {
   "cell_type": "code",
   "execution_count": 12,
   "id": "b2173002",
   "metadata": {},
   "outputs": [
    {
     "name": "stdout",
     "output_type": "stream",
     "text": [
      "https://translate.google.ca/?hl=en&tab=TT&sl=auto&tl=es&text=hello&op=translate\n",
      " https://translate.google.ca/?hl=en&tab=TT\n",
      "  https://translate.google.ca/?hl=en&tab=TT\n",
      "  https://translate.google.ca/?hl=en&tab=TT\n",
      "  https://translate.google.ca/history\n",
      "  https://translate.google.ca/saved\n",
      " https://translate.google.ca/?hl=en&tab=TT\n",
      "  https://translate.google.ca/?hl=en&tab=TT\n",
      "  https://translate.google.ca/?hl=en&tab=TT\n",
      "  https://translate.google.ca/history\n",
      "  https://translate.google.ca/saved\n",
      " https://translate.google.ca/history\n",
      "Error fetching https://translate.google.ca/signin/usernamerecovery?continue=https://translate.google.ca/history&dsh=S316310:1720126452977089&flowEntry=ServiceLogin&flowName=WebLiteSignIn&followup=https://translate.google.ca/history&ifkv=AS5LTAT_kkjIEWPy9o8DN-AztvMx16B_KADcoFiI3v6jKys_oPNsVl2sGoEJ28l5b1azfUNJBSK79A: Not Found\n",
      "Error fetching https://translate.google.ca/lifecycle/flows/signup?continue=https://translate.google.ca/history&dsh=S316310:1720126452977089&flowEntry=SignUp&flowName=GlifWebSignIn&followup=https://translate.google.ca/history&ifkv=AS5LTAT_kkjIEWPy9o8DN-AztvMx16B_KADcoFiI3v6jKys_oPNsVl2sGoEJ28l5b1azfUNJBSK79A: Not Found\n",
      " https://translate.google.ca/saved\n",
      "Error fetching https://translate.google.ca/signin/usernamerecovery?continue=https://translate.google.ca/saved&dsh=S151962681:1720126456245073&flowEntry=ServiceLogin&flowName=WebLiteSignIn&followup=https://translate.google.ca/saved&ifkv=AS5LTAQte_EqCGAdWKwkhob_o0Qg66Iw3jMFydlCb8rMG37NaPEV5GsniLrOHhj9xo32kvmBnVrg: Not Found\n",
      "Error fetching https://translate.google.ca/lifecycle/flows/signup?continue=https://translate.google.ca/saved&dsh=S151962681:1720126456245073&flowEntry=SignUp&flowName=GlifWebSignIn&followup=https://translate.google.ca/saved&ifkv=AS5LTAQte_EqCGAdWKwkhob_o0Qg66Iw3jMFydlCb8rMG37NaPEV5GsniLrOHhj9xo32kvmBnVrg: Not Found\n"
     ]
    }
   ],
   "source": [
    "import urllib.request\n",
    "from urllib.parse import urljoin\n",
    "from html.parser import HTMLParser\n",
    "\n",
    "class LinkParser(HTMLParser):\n",
    "    def __init__(self):\n",
    "        super().__init__()\n",
    "        self.links = []\n",
    "\n",
    "    def handle_starttag(self, tag, attrs):\n",
    "        if tag == 'a':\n",
    "            for attr, value in attrs:\n",
    "                if attr == 'href':\n",
    "                    self.links.append(value)\n",
    "\n",
    "def webdir(url, depth, indent):\n",
    "    if depth < 0:\n",
    "        return\n",
    "    \n",
    "    # Fetch the webpage content\n",
    "    try:\n",
    "        response = urllib.request.urlopen(url)\n",
    "    except urllib.error.URLError as e:\n",
    "        print(f\"Error fetching {url}: {e.reason}\")\n",
    "        return\n",
    "    \n",
    "    # Check if request was successful\n",
    "    if response.getcode() != 200:\n",
    "        print(f\"Failed to retrieve {url}. Status code: {response.getcode()}\")\n",
    "        return\n",
    "    \n",
    "    # Parse HTML content\n",
    "    content = response.read().decode('utf-8')\n",
    "    parser = LinkParser()\n",
    "    parser.feed(content)\n",
    "    \n",
    "    # Print the current URL with appropriate indentation\n",
    "    print(' ' * indent + url)\n",
    "    \n",
    "    # Find all links on the current page\n",
    "    for link in parser.links:\n",
    "        if link.startswith('http'):\n",
    "            next_url = link\n",
    "        else:\n",
    "            next_url = urljoin(url, link)\n",
    "        \n",
    "        # Avoid visiting the same domain again to prevent infinite loops\n",
    "        if urljoin(url, '').split('/')[2] == next_url.split('/')[2]:\n",
    "            webdir(next_url, depth - 1, indent + 1)\n",
    "\n",
    "# Example usage:\n",
    "webdir('https://translate.google.ca/?hl=en&tab=TT&sl=auto&tl=es&text=hello&op=translate', 2, 0)\n"
   ]
  },
  {
   "cell_type": "code",
   "execution_count": 13,
   "id": "d0d9240d",
   "metadata": {},
   "outputs": [
    {
     "name": "stdout",
     "output_type": "stream",
     "text": [
      "Error fetching https://reed.cs.depaul.edu/lperkovic/csc242/test1.html: \n"
     ]
    }
   ],
   "source": [
    "webdir('https://reed.cs.depaul.edu/lperkovic/csc242/test1.html', 2, 0)\n"
   ]
  },
  {
   "cell_type": "markdown",
   "id": "a8703bb2",
   "metadata": {},
   "source": [
    "# Q 8"
   ]
  },
  {
   "cell_type": "raw",
   "id": "2f14f168",
   "metadata": {},
   "source": [
    "Q 8\n",
    "Write SQL queries on the below database table that return:\n",
    "a) All the temperature data.\n",
    "b) All the cities, but without repetition.\n",
    "c) All the records for India.\n",
    "d) All the Fall records.\n",
    "e) The city, country, and season for which the average rainfall is between 200\n",
    "and 400 millimeters.\n",
    "f) The city and country for which the average Fall temperature is above 20\n",
    "degrees, in increasing temperature order.\n",
    "g) The total annual rainfall for Cairo.\n",
    "h) The total rainfall for each season.\n",
    "City Country Season Temperature\n",
    "(C)\n",
    "Rainfall\n",
    "(mm)\n",
    "Mumbai India Winter 24.8 5.9\n",
    "Mumbai India Spring 28.4 16.2\n",
    "Mumbai India Summer 27.9 1549.4\n",
    "Mumbai India Fall 27.6 346.0\n",
    "London United Kingdom Winter 4.2 207.7\n",
    "London United Kingdom Spring 8.3 169.6\n",
    "London United Kingdom Summer 15.7 157.0\n",
    "London United Kingdom Fall 10.4 218.5\n",
    "Cairo Egypt Winter 13.6 16.5\n",
    "Cairo Egypt Spring 20.7 6.5\n",
    "Cairo Egypt Summer 27.7 0.1\n",
    "Cairo Egypt Fall 22.2 4.5 "
   ]
  },
  {
   "cell_type": "code",
   "execution_count": 14,
   "id": "23cdcf25",
   "metadata": {},
   "outputs": [
    {
     "name": "stdout",
     "output_type": "stream",
     "text": [
      "Defaulting to user installation because normal site-packages is not writeable\n",
      "Requirement already satisfied: mysql-connector-python in c:\\users\\rahul\\appdata\\roaming\\python\\python311\\site-packages (9.0.0)\n"
     ]
    }
   ],
   "source": [
    "!pip install mysql-connector-python\n"
   ]
  },
  {
   "cell_type": "code",
   "execution_count": 15,
   "id": "74bad4fe",
   "metadata": {},
   "outputs": [],
   "source": [
    "import mysql.connector\n",
    "\n",
    "# Establish connection to MySQL server\n",
    "db_connection = mysql.connector.connect(\n",
    "    host=\"localhost\",\n",
    "    user=\"root\",\n",
    "    password=\"1234\"\n",
    ")\n",
    "\n",
    "# Create a cursor object to interact with the database\n",
    "db_cursor = db_connection.cursor()\n",
    "\n",
    "# Execute SQL query to create a new database named 'problemset2'\n",
    "db_cursor.execute(\"CREATE DATABASE ps2\")\n",
    "\n"
   ]
  },
  {
   "cell_type": "code",
   "execution_count": 16,
   "id": "2b5c5716",
   "metadata": {},
   "outputs": [],
   "source": [
    "db_cursor.execute(\"USE ps2\")"
   ]
  },
  {
   "cell_type": "code",
   "execution_count": 17,
   "id": "235a6971",
   "metadata": {},
   "outputs": [],
   "source": [
    "# Execute SQL query to create a new table named 'temperature_data'\n",
    "db_cursor.execute(\"CREATE TABLE temperature_data (City VARCHAR(255), Country VARCHAR(255), Season VARCHAR(255), Temperature FLOAT, Rainfall FLOAT)\")\n"
   ]
  },
  {
   "cell_type": "code",
   "execution_count": 18,
   "id": "fca42308",
   "metadata": {},
   "outputs": [
    {
     "name": "stdout",
     "output_type": "stream",
     "text": [
      "12 record(s) inserted.\n"
     ]
    }
   ],
   "source": [
    "sql = \"INSERT INTO temperature_data (City, Country, Season, Temperature, Rainfall) VALUES (%s, %s, %s, %s, %s)\"\n",
    "\n",
    "# Data values to be inserted\n",
    "data_values = [\n",
    "    ('Mumbai', 'India', 'Winter', 24.8, 5.9),\n",
    "    ('Mumbai', 'India', 'Spring', 28.4, 16.2),\n",
    "    ('Mumbai', 'India', 'Summer', 27.9, 1549.4),\n",
    "    ('Mumbai', 'India', 'Fall', 27.6, 346.0),\n",
    "    ('London', 'United Kingdom', 'Winter', 4.2, 207.7),\n",
    "    ('London', 'United Kingdom', 'Spring', 8.3, 169.6),\n",
    "    ('London', 'United Kingdom', 'Summer', 15.7, 157.0),\n",
    "    ('London', 'United Kingdom', 'Fall', 10.4, 218.5),\n",
    "    ('Cairo', 'Egypt', 'Winter', 13.6, 16.5),\n",
    "    ('Cairo', 'Egypt', 'Spring', 20.7, 6.5),\n",
    "    ('Cairo', 'Egypt', 'Summer', 27.7, 0.1),\n",
    "    ('Cairo', 'Egypt', 'Fall', 22.2, 4.5)\n",
    "]\n",
    "\n",
    "# Execute the SQL query with multiple value insertions\n",
    "db_cursor.executemany(sql, data_values)\n",
    "\n",
    "# Commit changes to the database\n",
    "db_connection.commit()\n",
    "\n",
    "# Print the number of records inserted\n",
    "print(db_cursor.rowcount, \"record(s) inserted.\")\n",
    "\n",
    "# Close cursor and connection\n",
    "db_cursor.close()\n",
    "db_connection.close()"
   ]
  },
  {
   "cell_type": "markdown",
   "id": "eb950f15",
   "metadata": {},
   "source": [
    "# a All the temperature data."
   ]
  },
  {
   "cell_type": "code",
   "execution_count": 19,
   "id": "9c72c558",
   "metadata": {},
   "outputs": [
    {
     "name": "stdout",
     "output_type": "stream",
     "text": [
      "(24.8,)\n",
      "(28.4,)\n",
      "(27.9,)\n",
      "(27.6,)\n",
      "(4.2,)\n",
      "(8.3,)\n",
      "(15.7,)\n",
      "(10.4,)\n",
      "(13.6,)\n",
      "(20.7,)\n",
      "(27.7,)\n",
      "(22.2,)\n"
     ]
    }
   ],
   "source": [
    "import mysql.connector\n",
    "\n",
    "\n",
    "db_connection = mysql.connector.connect(\n",
    "    host=\"localhost\",\n",
    "    user=\"root\",\n",
    "    passwd=\"1234\",\n",
    "    database=\"ps2\"\n",
    ")\n",
    "\n",
    "db_cursor = db_connection.cursor()\n",
    "\n",
    "# SQL query to fetch all temperatures from 'temperature_data' table\n",
    "sql_query = \"SELECT Temperature FROM temperature_data\"\n",
    "\n",
    "db_cursor.execute(sql_query)\n",
    "\n",
    "\n",
    "query_results = db_cursor.fetchall()\n",
    "\n",
    "# Iterate through the results and print each temperature\n",
    "for record in query_results:\n",
    "    print(record)\n",
    "\n",
    "db_cursor.close()\n",
    "db_connection.close()\n"
   ]
  },
  {
   "cell_type": "markdown",
   "id": "bafcccbb",
   "metadata": {},
   "source": [
    "# b All the cities, but without repetition."
   ]
  },
  {
   "cell_type": "code",
   "execution_count": 20,
   "id": "067a458e",
   "metadata": {},
   "outputs": [
    {
     "name": "stdout",
     "output_type": "stream",
     "text": [
      "('Mumbai',)\n",
      "('London',)\n",
      "('Cairo',)\n"
     ]
    }
   ],
   "source": [
    "import mysql.connector\n",
    "\n",
    "# Establish connection to MySQL server\n",
    "db_connection = mysql.connector.connect(\n",
    "    host=\"localhost\",\n",
    "    user=\"root\",\n",
    "    passwd=\"1234\",\n",
    "    database=\"ps2\"\n",
    ")\n",
    "\n",
    "\n",
    "db_cursor = db_connection.cursor()\n",
    "sql_query = \"SELECT DISTINCT(City) FROM temperature_data\"\n",
    "db_cursor.execute(sql_query)\n",
    "query_results = db_cursor.fetchall()\n",
    "for record in query_results:\n",
    "    print(record)\n",
    "db_cursor.close()\n",
    "db_connection.close()\n"
   ]
  },
  {
   "cell_type": "markdown",
   "id": "a3d1718d",
   "metadata": {},
   "source": [
    "# c All the records for India."
   ]
  },
  {
   "cell_type": "code",
   "execution_count": 21,
   "id": "94efde15",
   "metadata": {},
   "outputs": [
    {
     "name": "stdout",
     "output_type": "stream",
     "text": [
      "('Mumbai', 'India', 'Winter', 24.8, 5.9)\n",
      "('Mumbai', 'India', 'Spring', 28.4, 16.2)\n",
      "('Mumbai', 'India', 'Summer', 27.9, 1549.4)\n",
      "('Mumbai', 'India', 'Fall', 27.6, 346.0)\n"
     ]
    }
   ],
   "source": [
    "import mysql.connector\n",
    "\n",
    "db_connection = mysql.connector.connect(\n",
    "    host=\"localhost\",\n",
    "    user=\"root\",\n",
    "    passwd=\"1234\",\n",
    "    database=\"ps2\"\n",
    ")\n",
    "\n",
    "db_cursor = db_connection.cursor()\n",
    "\n",
    "sql_query = \"SELECT * FROM temperature_data WHERE Country = 'India'\"\n",
    "\n",
    "db_cursor.execute(sql_query)\n",
    "\n",
    "query_results = db_cursor.fetchall()\n",
    "\n",
    "for record in query_results:\n",
    "    print(record)\n",
    "\n",
    "db_cursor.close()\n",
    "db_connection.close()\n"
   ]
  },
  {
   "cell_type": "markdown",
   "id": "c0987e62",
   "metadata": {},
   "source": [
    "# d All the Fall records."
   ]
  },
  {
   "cell_type": "code",
   "execution_count": 22,
   "id": "e166b935",
   "metadata": {},
   "outputs": [
    {
     "name": "stdout",
     "output_type": "stream",
     "text": [
      "('Mumbai', 'India', 'Fall', 27.6, 346.0)\n",
      "('London', 'United Kingdom', 'Fall', 10.4, 218.5)\n",
      "('Cairo', 'Egypt', 'Fall', 22.2, 4.5)\n"
     ]
    }
   ],
   "source": [
    "import mysql.connector\n",
    "\n",
    "# Establish connection to MySQL server\n",
    "db_connection = mysql.connector.connect(\n",
    "    host=\"localhost\",\n",
    "    user=\"root\",\n",
    "    passwd=\"1234\",\n",
    "    database=\"ps2\"\n",
    ")\n",
    "\n",
    "# Create a cursor object to interact with the database\n",
    "db_cursor = db_connection.cursor()\n",
    "\n",
    "# SQL query to fetch all records from 'temperature_data' table where Season is 'Fall'\n",
    "sql_query = \"SELECT * FROM temperature_data WHERE Season = 'Fall'\"\n",
    "\n",
    "# Execute the SQL query\n",
    "db_cursor.execute(sql_query)\n",
    "\n",
    "# Fetch all results\n",
    "query_results = db_cursor.fetchall()\n",
    "\n",
    "# Iterate through the results and print each record\n",
    "for record in query_results:\n",
    "    print(record)\n",
    "\n",
    "# Close cursor and connection\n",
    "db_cursor.close()\n",
    "db_connection.close()\n"
   ]
  },
  {
   "cell_type": "markdown",
   "id": "0afac474",
   "metadata": {},
   "source": [
    "# e The city, country, and season for which the average rainfall is between 200 and 400 millimeters."
   ]
  },
  {
   "cell_type": "code",
   "execution_count": 23,
   "id": "96ef039d",
   "metadata": {},
   "outputs": [
    {
     "name": "stdout",
     "output_type": "stream",
     "text": [
      "('Mumbai', 'India', 'Fall')\n",
      "('London', 'United Kingdom', 'Winter')\n",
      "('London', 'United Kingdom', 'Fall')\n"
     ]
    }
   ],
   "source": [
    "import mysql.connector\n",
    "\n",
    "# Establish connection to MySQL server\n",
    "db_connection = mysql.connector.connect(\n",
    "    host=\"localhost\",\n",
    "    user=\"root\",\n",
    "    passwd=\"1234\",\n",
    "    database=\"ps2\"\n",
    ")\n",
    "\n",
    "# Create a cursor object to interact with the database\n",
    "db_cursor = db_connection.cursor()\n",
    "\n",
    "# SQL query to fetch City, Country, and Season from 'temperature_data' table where Rainfall is between 200 and 400\n",
    "sql_query = \"SELECT City, Country, Season FROM temperature_data WHERE Rainfall BETWEEN 200 AND 400\"\n",
    "\n",
    "# Execute the SQL query\n",
    "db_cursor.execute(sql_query)\n",
    "\n",
    "# Fetch all results\n",
    "query_results = db_cursor.fetchall()\n",
    "\n",
    "# Iterate through the results and print each record\n",
    "for record in query_results:\n",
    "    print(record)\n",
    "\n",
    "# Close cursor and connection\n",
    "db_cursor.close()\n",
    "db_connection.close()\n"
   ]
  },
  {
   "cell_type": "markdown",
   "id": "eff56dd5",
   "metadata": {},
   "source": [
    "# f The city and country for which the average Fall temperature is above 20 degrees, in increasing temperature order."
   ]
  },
  {
   "cell_type": "code",
   "execution_count": 24,
   "id": "74151b6b",
   "metadata": {},
   "outputs": [
    {
     "name": "stdout",
     "output_type": "stream",
     "text": [
      "('Cairo', 'Egypt')\n",
      "('Mumbai', 'India')\n"
     ]
    }
   ],
   "source": [
    "import mysql.connector\n",
    "\n",
    "# Establish connection to MySQL server\n",
    "db_connection = mysql.connector.connect(\n",
    "    host=\"localhost\",\n",
    "    user=\"root\",\n",
    "    passwd=\"1234\",\n",
    "    database=\"ps2\"\n",
    ")\n",
    "\n",
    "# Create a cursor object to interact with the database\n",
    "db_cursor = db_connection.cursor()\n",
    "\n",
    "# SQL query to fetch City and Country from 'temperature_data' table where Season is 'Fall' and Temperature > 20, ordered by Temperature\n",
    "sql_query = \"SELECT City, Country FROM temperature_data WHERE Season = 'Fall' AND Temperature > 20 ORDER BY Temperature\"\n",
    "\n",
    "# Execute the SQL query\n",
    "db_cursor.execute(sql_query)\n",
    "\n",
    "# Fetch all results\n",
    "query_results = db_cursor.fetchall()\n",
    "\n",
    "# Iterate through the results and print each record\n",
    "for record in query_results:\n",
    "    print(record)\n",
    "\n",
    "# Close cursor and connection\n",
    "db_cursor.close()\n",
    "db_connection.close()\n"
   ]
  },
  {
   "cell_type": "markdown",
   "id": "212ee372",
   "metadata": {},
   "source": [
    "# g The total annual rainfall for Cairo."
   ]
  },
  {
   "cell_type": "code",
   "execution_count": 25,
   "id": "02d6cb04",
   "metadata": {},
   "outputs": [
    {
     "name": "stdout",
     "output_type": "stream",
     "text": [
      "Total annual rainfall for Cairo: 27.600000001490116\n"
     ]
    }
   ],
   "source": [
    "import mysql.connector\n",
    "\n",
    "# Establish connection to MySQL server\n",
    "db_connection = mysql.connector.connect(\n",
    "    host=\"localhost\",\n",
    "    user=\"root\",\n",
    "    passwd=\"1234\",\n",
    "    database=\"ps2\"\n",
    ")\n",
    "\n",
    "# Create a cursor object to interact with the database\n",
    "db_cursor = db_connection.cursor()\n",
    "\n",
    "# SQL query to calculate the total annual rainfall for Cairo from 'temperature_data' table\n",
    "sql_query = \"SELECT SUM(Rainfall) FROM temperature_data WHERE City = 'Cairo'\"\n",
    "\n",
    "# Execute the SQL query\n",
    "db_cursor.execute(sql_query)\n",
    "\n",
    "# Fetch the result\n",
    "total_rainfall = db_cursor.fetchone()[0]\n",
    "\n",
    "# Print the total annual rainfall for Cairo\n",
    "print(\"Total annual rainfall for Cairo:\", total_rainfall)\n",
    "\n",
    "# Close cursor and connection\n",
    "db_cursor.close()\n",
    "db_connection.close()\n"
   ]
  },
  {
   "cell_type": "markdown",
   "id": "da2e20d8",
   "metadata": {},
   "source": [
    "# h The total rainfall for each season."
   ]
  },
  {
   "cell_type": "code",
   "execution_count": 26,
   "id": "b78bc89d",
   "metadata": {},
   "outputs": [
    {
     "name": "stdout",
     "output_type": "stream",
     "text": [
      "('Winter', 230.09999704360962)\n",
      "('Spring', 192.30000686645508)\n",
      "('Summer', 1706.5000244155526)\n",
      "('Fall', 569.0)\n"
     ]
    }
   ],
   "source": [
    "import mysql.connector\n",
    "\n",
    "# Establish connection to MySQL server\n",
    "db_connection = mysql.connector.connect(\n",
    "    host=\"localhost\",\n",
    "    user=\"root\",\n",
    "    passwd=\"1234\",\n",
    "    database=\"ps2\"\n",
    ")\n",
    "\n",
    "# Create a cursor object to interact with the database\n",
    "db_cursor = db_connection.cursor()\n",
    "\n",
    "# SQL query to calculate the total rainfall for each season from 'temperature_data' table\n",
    "sql_query = \"SELECT Season, SUM(Rainfall) FROM temperature_data GROUP BY Season\"\n",
    "\n",
    "# Execute the SQL query\n",
    "db_cursor.execute(sql_query)\n",
    "\n",
    "# Fetch all results\n",
    "query_results = db_cursor.fetchall()\n",
    "\n",
    "# Iterate through the results and print each record\n",
    "for record in query_results:\n",
    "    print(record)\n",
    "\n",
    "# Close cursor and connection\n",
    "db_cursor.close()\n",
    "db_connection.close()\n"
   ]
  },
  {
   "cell_type": "markdown",
   "id": "d283d020",
   "metadata": {},
   "source": [
    "# Q9"
   ]
  },
  {
   "cell_type": "raw",
   "id": "e3649270",
   "metadata": {},
   "source": [
    "# Q 9 . Suppose list words is defined as follows:\n",
    ">>> words = ['The', 'quick', 'brown', 'fox', 'jumps', 'over',\n",
    "'the', 'lazy', 'dog']\n",
    "Write list comprehension expressions that use list words and generate the following\n",
    "lists:\n",
    "a) ['THE', 'QUICK', 'BROWN', 'FOX', 'JUMPS', 'OVER', 'THE',\n",
    "'LAZY', 'DOG']\n",
    "b) ['the', 'quick', 'brown', 'fox', 'jumps', 'over', 'the',\n",
    "'lazy', 'dog']\n",
    "c) [3, 5, 5, 3, 5, 4, 3, 4, 3] (the list of lengths of words in list\n",
    "words).\n",
    "d) [['THE', 'the', 3], ['QUICK', 'quick', 5], ['BROWN',\n",
    "'brown', 5], ['FOX', 'fox', 3], ['JUMPS', 'jumps', 5],\n",
    "['OVER', 'over', 4], ['THE', 'the', 3], ['LAZY', 'lazy',\n",
    "4], ['DOG', 'dog', 3]] (the list containing a list for every word of list\n",
    "words, where each list contains the word in uppercase and lowercase and the\n",
    "length of the word.)\n",
    "e) ['The', 'quick', 'brown', 'fox', 'jumps', 'over', 'the',\n",
    "'lazy', 'dog'] (the list of words in list words containing 4 or more\n",
    "characters.)"
   ]
  },
  {
   "cell_type": "code",
   "execution_count": 27,
   "id": "692567bb",
   "metadata": {},
   "outputs": [
    {
     "name": "stdout",
     "output_type": "stream",
     "text": [
      "A) ['THE', 'QUICK', 'BROWN', 'FOX', 'JUMPS', 'OVER', 'THE', 'LAZY', 'DOG']\n",
      "B) ['the', 'quick', 'brown', 'fox', 'jumps', 'over', 'the', 'lazy', 'dog']\n",
      "C) [3, 5, 5, 3, 5, 4, 3, 4, 3]\n",
      "D) [['THE', 'the', 3], ['QUICK', 'quick', 5], ['BROWN', 'brown', 5], ['FOX', 'fox', 3], ['JUMPS', 'jumps', 5], ['OVER', 'over', 4], ['THE', 'the', 3], ['LAZY', 'lazy', 4], ['DOG', 'dog', 3]]\n",
      "E) ['quick', 'brown', 'jumps', 'over', 'lazy']\n"
     ]
    }
   ],
   "source": [
    "# Original list of words\n",
    "original_words = ['The', 'quick', 'brown', 'fox', 'jumps', 'over', 'the', 'lazy', 'dog']\n",
    "\n",
    "# Part A: Uppercase versions of each word\n",
    "uppercase_words = ['{}'.format(word.upper()) for word in original_words]\n",
    "print(\"A)\", uppercase_words)\n",
    "\n",
    "# Part B: Lowercase versions of each word\n",
    "lowercase_words = ['{}'.format(word.lower()) for word in original_words]\n",
    "print(\"B)\", lowercase_words)\n",
    "\n",
    "# Part C: Lengths of each word\n",
    "word_lengths = [len(word) for word in original_words]\n",
    "print(\"C)\", word_lengths)\n",
    "\n",
    "# Part D: Lists containing uppercase, lowercase, and length of each word\n",
    "word_info = [[word.upper(), word.lower(), len(word)] for word in original_words]\n",
    "print(\"D)\", word_info)\n",
    "\n",
    "# Part E: Words with 4 or more characters\n",
    "long_words = [word for word in original_words if len(word) >= 4]\n",
    "print(\"E)\", long_words)\n"
   ]
  },
  {
   "cell_type": "code",
   "execution_count": null,
   "id": "9179fb4e",
   "metadata": {},
   "outputs": [],
   "source": []
  }
 ],
 "metadata": {
  "kernelspec": {
   "display_name": "Python 3 (ipykernel)",
   "language": "python",
   "name": "python3"
  },
  "language_info": {
   "codemirror_mode": {
    "name": "ipython",
    "version": 3
   },
   "file_extension": ".py",
   "mimetype": "text/x-python",
   "name": "python",
   "nbconvert_exporter": "python",
   "pygments_lexer": "ipython3",
   "version": "3.11.5"
  }
 },
 "nbformat": 4,
 "nbformat_minor": 5
}
